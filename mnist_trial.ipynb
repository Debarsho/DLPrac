{
  "nbformat": 4,
  "nbformat_minor": 0,
  "metadata": {
    "colab": {
      "name": "mnist_trial.ipynb",
      "provenance": [],
      "collapsed_sections": []
    },
    "kernelspec": {
      "name": "python3",
      "display_name": "Python 3"
    },
    "accelerator": "GPU"
  },
  "cells": [
    {
      "cell_type": "code",
      "metadata": {
        "id": "brfEM-rntvV2",
        "colab_type": "code",
        "colab": {
          "base_uri": "https://localhost:8080/",
          "height": 68
        },
        "outputId": "542620f6-1ad6-42cb-d055-cd4c224e87cf"
      },
      "source": [
        "from keras.datasets import mnist\n",
        "from keras import models\n",
        "from keras import layers\n",
        "from keras.utils import to_categorical\n",
        "\n",
        "(tr_img,tr_lab),(te_img,te_lab)=mnist.load_data()"
      ],
      "execution_count": 2,
      "outputs": [
        {
          "output_type": "stream",
          "text": [
            "Using TensorFlow backend.\n"
          ],
          "name": "stderr"
        },
        {
          "output_type": "stream",
          "text": [
            "Downloading data from https://s3.amazonaws.com/img-datasets/mnist.npz\n",
            "11493376/11490434 [==============================] - 2s 0us/step\n"
          ],
          "name": "stdout"
        }
      ]
    },
    {
      "cell_type": "code",
      "metadata": {
        "id": "lBFMPcIVt7sq",
        "colab_type": "code",
        "colab": {}
      },
      "source": [
        "mdl=models.Sequential()\n",
        "mdl.add(layers.Dense(512,activation='relu', input_shape=(28*28,)))\n",
        "mdl.add(layers.Dense(10,activation='softmax'))\n",
        "mdl.compile(optimizer='rmsprop',\n",
        "loss='categorical_crossentropy',\n",
        "metrics=['accuracy'])\n"
      ],
      "execution_count": 0,
      "outputs": []
    },
    {
      "cell_type": "code",
      "metadata": {
        "id": "V_ERnOWfvQFf",
        "colab_type": "code",
        "colab": {}
      },
      "source": [
        "tr_img = tr_img.reshape((60000, 28 * 28))\n",
        "tr_img = tr_img.astype('float32') / 255\n",
        "te_img = te_img.reshape((10000, 28 * 28))\n",
        "te_img = te_img.astype('float32') / 255\n",
        "tr_lab=to_categorical(tr_lab)\n",
        "te_lab=to_categorical(te_lab)"
      ],
      "execution_count": 0,
      "outputs": []
    },
    {
      "cell_type": "code",
      "metadata": {
        "id": "7QqQQ3h-vtBN",
        "colab_type": "code",
        "colab": {
          "base_uri": "https://localhost:8080/",
          "height": 714
        },
        "outputId": "55af7180-d971-4786-e9e0-0d51f6626b32"
      },
      "source": [
        "mdl.fit(tr_img,tr_lab,epochs=20,batch_size=128)"
      ],
      "execution_count": 5,
      "outputs": [
        {
          "output_type": "stream",
          "text": [
            "Epoch 1/20\n",
            "60000/60000 [==============================] - 3s 47us/step - loss: 0.2581 - accuracy: 0.9261\n",
            "Epoch 2/20\n",
            "60000/60000 [==============================] - 1s 20us/step - loss: 0.1032 - accuracy: 0.9695\n",
            "Epoch 3/20\n",
            "60000/60000 [==============================] - 1s 19us/step - loss: 0.0672 - accuracy: 0.9794\n",
            "Epoch 4/20\n",
            "60000/60000 [==============================] - 1s 19us/step - loss: 0.0485 - accuracy: 0.9851\n",
            "Epoch 5/20\n",
            "60000/60000 [==============================] - 1s 20us/step - loss: 0.0369 - accuracy: 0.9888\n",
            "Epoch 6/20\n",
            "60000/60000 [==============================] - 1s 20us/step - loss: 0.0276 - accuracy: 0.9916\n",
            "Epoch 7/20\n",
            "60000/60000 [==============================] - 1s 19us/step - loss: 0.0215 - accuracy: 0.9938\n",
            "Epoch 8/20\n",
            "60000/60000 [==============================] - 1s 19us/step - loss: 0.0163 - accuracy: 0.9954\n",
            "Epoch 9/20\n",
            "60000/60000 [==============================] - 1s 20us/step - loss: 0.0128 - accuracy: 0.9961\n",
            "Epoch 10/20\n",
            "60000/60000 [==============================] - 1s 20us/step - loss: 0.0099 - accuracy: 0.9970\n",
            "Epoch 11/20\n",
            "60000/60000 [==============================] - 1s 19us/step - loss: 0.0076 - accuracy: 0.9977\n",
            "Epoch 12/20\n",
            "60000/60000 [==============================] - 1s 20us/step - loss: 0.0059 - accuracy: 0.9984\n",
            "Epoch 13/20\n",
            "60000/60000 [==============================] - 1s 19us/step - loss: 0.0046 - accuracy: 0.9987\n",
            "Epoch 14/20\n",
            "60000/60000 [==============================] - 1s 19us/step - loss: 0.0032 - accuracy: 0.9991\n",
            "Epoch 15/20\n",
            "60000/60000 [==============================] - 1s 19us/step - loss: 0.0030 - accuracy: 0.9992\n",
            "Epoch 16/20\n",
            "60000/60000 [==============================] - 1s 20us/step - loss: 0.0023 - accuracy: 0.9994\n",
            "Epoch 17/20\n",
            "60000/60000 [==============================] - 1s 20us/step - loss: 0.0019 - accuracy: 0.9995\n",
            "Epoch 18/20\n",
            "60000/60000 [==============================] - 1s 19us/step - loss: 0.0013 - accuracy: 0.9997\n",
            "Epoch 19/20\n",
            "60000/60000 [==============================] - 1s 20us/step - loss: 0.0012 - accuracy: 0.9997\n",
            "Epoch 20/20\n",
            "60000/60000 [==============================] - 1s 19us/step - loss: 8.2992e-04 - accuracy: 0.9998\n"
          ],
          "name": "stdout"
        },
        {
          "output_type": "execute_result",
          "data": {
            "text/plain": [
              "<keras.callbacks.callbacks.History at 0x7fc5b26e7278>"
            ]
          },
          "metadata": {
            "tags": []
          },
          "execution_count": 5
        }
      ]
    },
    {
      "cell_type": "code",
      "metadata": {
        "id": "o9AhSTEtwGmc",
        "colab_type": "code",
        "colab": {
          "base_uri": "https://localhost:8080/",
          "height": 51
        },
        "outputId": "83428f3a-5651-48ba-e5d0-d7a8c7bc8142"
      },
      "source": [
        "print(mdl.evaluate(te_img,te_lab))"
      ],
      "execution_count": 6,
      "outputs": [
        {
          "output_type": "stream",
          "text": [
            "10000/10000 [==============================] - 0s 48us/step\n",
            "[0.09882991376171134, 0.9812999963760376]\n"
          ],
          "name": "stdout"
        }
      ]
    },
    {
      "cell_type": "code",
      "metadata": {
        "id": "Hs6VQoyIwnMD",
        "colab_type": "code",
        "colab": {}
      },
      "source": [
        ""
      ],
      "execution_count": 0,
      "outputs": []
    }
  ]
}